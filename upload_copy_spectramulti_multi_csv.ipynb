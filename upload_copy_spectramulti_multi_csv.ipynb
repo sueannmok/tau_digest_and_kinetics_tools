{
  "cells": [
    {
      "cell_type": "markdown",
      "metadata": {
        "id": "view-in-github",
        "colab_type": "text"
      },
      "source": [
        "<a href=\"https://colab.research.google.com/github/sueannmok/tau_digest_and_kinetics_tools/blob/main/upload_copy_spectramulti_multi_csv.ipynb\" target=\"_parent\"><img src=\"https://colab.research.google.com/assets/colab-badge.svg\" alt=\"Open In Colab\"/></a>"
      ]
    },
    {
      "cell_type": "markdown",
      "metadata": {
        "id": "z_A5yNd6II_n"
      },
      "source": [
        "We start by loading the necessary libraries"
      ]
    },
    {
      "cell_type": "code",
      "execution_count": null,
      "metadata": {
        "id": "-i19B8mHII_n"
      },
      "outputs": [],
      "source": [
        "import pandas as pd\n",
        "from scipy.spatial.distance import pdist, jaccard\n",
        "from scipy.stats import pearsonr,spearmanr\n",
        "from scipy.cluster.hierarchy import dendrogram, linkage\n",
        "from scipy.interpolate import interp1d\n",
        "from scipy.spatial.distance import correlation,cosine\n",
        "from sklearn.cluster import AgglomerativeClustering\n",
        "from sklearn.metrics import pairwise_distances\n",
        "from matplotlib import pyplot as plt\n",
        "import numpy as np\n",
        "from seaborn import heatmap\n",
        "%matplotlib inline"
      ]
    },
    {
      "cell_type": "markdown",
      "metadata": {
        "id": "-Fzb5rAsII_n"
      },
      "source": [
        "We load the txt files into dataframes."
      ]
    },
    {
      "cell_type": "code",
      "execution_count": null,
      "metadata": {
        "id": "ukasI14lII_o"
      },
      "outputs": [],
      "source": [
        "df1 = pd.read_csv('/example.csv',delimiter=\",\",decimal=\".\")\n",
        "df2 = pd.read_csv('/example2.csv',delimiter=\",\",decimal=\".\")\n"
      ]
    },
    {
      "cell_type": "markdown",
      "metadata": {
        "id": "OZo7dd_KII_o"
      },
      "source": [
        "From each dataframe associated with a file, we only keep those values that are between 2 and 40."
      ]
    },
    {
      "cell_type": "markdown",
      "source": [],
      "metadata": {
        "id": "Qs1g5ECMVhip"
      }
    },
    {
      "cell_type": "code",
      "execution_count": null,
      "metadata": {
        "id": "BhzOE2M8II_o"
      },
      "outputs": [],
      "source": [
        "df1 = df1[(df1['kDa']>=1.9) & (df1['kDa']<=41)]\n",
        "df2 = df2[(df2['kDa']>=1.9) & (df2['kDa']<=41)]\n",
        "\n"
      ]
    },
    {
      "cell_type": "code",
      "execution_count": null,
      "metadata": {
        "id": "M7dX4Y3eII_o"
      },
      "outputs": [],
      "source": [
        "df1"
      ]
    },
    {
      "cell_type": "markdown",
      "metadata": {
        "id": "Y1XPjfNAII_p"
      },
      "source": [
        "The next function is used to combine a list of dataframes. Since different kDa values might appear in different files, we perform an interpolation and obtain values with a step of 0.1 in the range from 2 to 40."
      ]
    },
    {
      "cell_type": "code",
      "execution_count": null,
      "metadata": {
        "id": "D3AgARJGII_p"
      },
      "outputs": [],
      "source": [
        "def buildDataframe(dfList,dfNames):\n",
        "    \n",
        "    samples = []\n",
        "    names = []\n",
        "    samples.append(np.arange(6.0,24,0.1))\n",
        "    names.append('points')\n",
        "    for df,name in zip(dfList,dfNames):\n",
        "        columns = df.columns[1:]\n",
        "        for c in columns:\n",
        "            f = interp1d(df['kDa'],df[c])\n",
        "            samples.append(f(np.arange(6.0,24,0.1)))\n",
        "            names.append(name+'-'+c)\n",
        "    \n",
        "    return pd.DataFrame(data=np.transpose(samples),columns=names,index=None)"
      ]
    },
    {
      "cell_type": "markdown",
      "metadata": {
        "id": "S6mmUMB7II_p"
      },
      "source": [
        "Combine the loaded dataframes."
      ]
    },
    {
      "cell_type": "code",
      "execution_count": null,
      "metadata": {
        "id": "dIUSPIUXII_p"
      },
      "outputs": [],
      "source": [
        "newdf = buildDataframe([df1,df2],['Date1','Date2'])"
      ]
    },
    {
      "cell_type": "markdown",
      "source": [],
      "metadata": {
        "id": "f-Yw_K2QA3_j"
      }
    },
    {
      "cell_type": "code",
      "execution_count": null,
      "metadata": {
        "id": "85RMobXQII_p"
      },
      "outputs": [],
      "source": [
        "newdf"
      ]
    },
    {
      "cell_type": "markdown",
      "metadata": {
        "id": "-GaBI7U8II_p"
      },
      "source": [
        "We now define a set of auxiliary functions."
      ]
    },
    {
      "cell_type": "code",
      "execution_count": null,
      "metadata": {
        "id": "XvyfY4_rII_p"
      },
      "outputs": [],
      "source": [
        "def generate_spectra(df):\n",
        "    \"\"\"\n",
        "    Generate spectra matrix from dataframe\n",
        "    \n",
        "    Parameters\n",
        "    ----------\n",
        "    df : dataframe\n",
        "         A dataframe where the first row contains the names of the samples and for each sample we have its spectra\n",
        "    \n",
        "    Returns\n",
        "    ----------\n",
        "    matrix : narray\n",
        "             The spectra associated with each sample\n",
        "    names  : list\n",
        "             The list of names of the samples\n",
        "    \"\"\"\n",
        "    \n",
        "    names = df.columns[1:]\n",
        "        \n",
        "    \n",
        "    return np.transpose(df.values[:,1:]), names   "
      ]
    },
    {
      "cell_type": "code",
      "execution_count": null,
      "metadata": {
        "id": "cGOz2LYyII_p"
      },
      "outputs": [],
      "source": [
        "def compute_distance(vector1,vector2,metric='correlation'):\n",
        "    \"\"\"\n",
        "    Compute the distance of two spectra vectors using either the correlation or cosine distance.\n",
        "    \n",
        "    Parameters\n",
        "    ----------\n",
        "    vector1 : array\n",
        "    vector2 : array\n",
        "       Must have the same size than vector1\n",
        "    metric  : string\n",
        "       Either correlation or cosine\n",
        "    \n",
        "    Returns\n",
        "    ----------\n",
        "    The distance between vector1 and vector2 using the given metric. \n",
        "    \"\"\"\n",
        "    if(metric=='correlation'):\n",
        "        return correlation(vector1,vector2)\n",
        "    if(metric=='cosine'):\n",
        "        return cosine(vector1,vector2)"
      ]
    },
    {
      "cell_type": "code",
      "execution_count": null,
      "metadata": {
        "id": "xUFuJ4coII_q"
      },
      "outputs": [],
      "source": [
        "def generate_similarity_matrix(df,metric='correlation'):\n",
        "    \"\"\"\n",
        "    Generates the similarity matrix of a dataframe\n",
        "    \n",
        "    Parameters\n",
        "    ----------\n",
        "    df : dataframe\n",
        "    metric  : string\n",
        "       Either correlation or cosine\n",
        "    \n",
        "    Returns\n",
        "    ----------\n",
        "    The similarity matrix associated with a dataframe\n",
        "    \"\"\"\n",
        "    spectra,names = generate_spectra(df)\n",
        "    \n",
        "    matrix  = np.zeros((len(names),len(names)),dtype='float32')\n",
        "    for i in range(0,len(names)):\n",
        "        for j in range(i+1,len(names)):\n",
        "            matrix[i][j] = compute_distance(spectra[i],\n",
        "                                            spectra[j],\n",
        "                                            metric)\n",
        "            matrix[j][i] = matrix[i][j]\n",
        "    return matrix, names"
      ]
    },
    {
      "cell_type": "code",
      "execution_count": null,
      "metadata": {
        "id": "FUfZkhYfII_q"
      },
      "outputs": [],
      "source": [
        "def plot_dendrogram(model, **kwargs):\n",
        "    # Create linkage matrix and then plot the dendrogram\n",
        "\n",
        "    # create the counts of samples under each node\n",
        "    counts = np.zeros(model.children_.shape[0])\n",
        "    n_samples = len(model.labels_)\n",
        "    for i, merge in enumerate(model.children_):\n",
        "        current_count = 0\n",
        "        for child_idx in merge:\n",
        "            if child_idx < n_samples:\n",
        "                current_count += 1  # leaf node\n",
        "            else:\n",
        "                current_count += counts[child_idx - n_samples]\n",
        "        counts[i] = current_count\n",
        "\n",
        "    linkage_matrix = np.column_stack([model.children_, model.distances_,\n",
        "                                      counts]).astype(float)\n",
        "\n",
        "    # Plot the corresponding dendrogram\n",
        "    dendrogram(linkage_matrix,color_threshold=0.10, **kwargs)"
      ]
    },
    {
      "cell_type": "code",
      "execution_count": null,
      "metadata": {
        "id": "Ic1M0waXII_q"
      },
      "outputs": [],
      "source": [
        "def generate_dendogram(df,linkage='average',metric='correlation',threshold=0.2,name='dendogram.svg'):\n",
        "    \"\"\"\n",
        "    Generates dendogram\n",
        "    \n",
        "    Parameters\n",
        "    ----------\n",
        "    df : dataframe\n",
        "        A dataframe where the first column contains the names of the samples and the second\n",
        "        contains the molecular weights\n",
        "    linkage: string\n",
        "        The linkage method for building the dendogram:\n",
        "        ‘ward’, ‘complete’, ‘average’, ‘single’.\n",
        "    metric: string\n",
        "        One of the following metrics to compute the distance matrix:\n",
        "        'pearson' or 'spearman'\n",
        "    threshold: float >=0 and <=1\n",
        "        Value that is considered to create a cluster. \n",
        "    name: string\n",
        "        Path where the dendogram will be saved\n",
        "    Returns\n",
        "    ----------\n",
        "    This methods shows the associated dendogram and saves the image.\n",
        "    \"\"\"\n",
        "\n",
        "    if(metric=='correlation' or metric=='cosine'):            \n",
        "        m,names = generate_similarity_matrix(df,metric)\n",
        "    else:\n",
        "        raise Excepction('Only jaccard and dice are supported')\n",
        "    \n",
        "    clustering = AgglomerativeClustering(n_clusters=None,affinity='precomputed',linkage=linkage,\n",
        "                                      distance_threshold=threshold)\n",
        "    clustering.fit(m)\n",
        "    \n",
        "    plt.figure(figsize=(55, 2*len(names)))\n",
        "    plot_dendrogram(clustering,leaf_font_size=0.5*len(names),orientation='left',labels = names)\n",
        "    plt.savefig(name)\n",
        "    "
      ]
    },
    {
      "cell_type": "code",
      "execution_count": null,
      "metadata": {
        "scrolled": true,
        "id": "U2lIMNRgII_q"
      },
      "outputs": [],
      "source": [
        "generate_dendogram(newdf,name='dendogram_multi.svg')"
      ]
    },
    {
      "cell_type": "code",
      "execution_count": null,
      "metadata": {
        "id": "lGcG6WWNII_q"
      },
      "outputs": [],
      "source": [
        "def generate_heatmap(df,metric='correlation',name='heatmap.svg'):\n",
        "    m,names = generate_similarity_matrix(df,metric)\n",
        "    plt.clf()\n",
        "    plt.figure(figsize=(len(names)+1, len(names)))\n",
        "    heatmap(1-m,xticklabels=names,yticklabels=names,annot=True)\n",
        "    plt.savefig(name)"
      ]
    },
    {
      "cell_type": "code",
      "execution_count": null,
      "metadata": {
        "id": "KEoifPDaII_q"
      },
      "outputs": [],
      "source": [
        "generate_heatmap(newdf,name='heatmap_multi.svg')"
      ]
    },
    {
      "cell_type": "code",
      "execution_count": null,
      "metadata": {
        "id": "CLnxDmPAII_q"
      },
      "outputs": [],
      "source": []
    }
  ],
  "metadata": {
    "kernelspec": {
      "display_name": "Python 3 (ipykernel)",
      "language": "python",
      "name": "python3"
    },
    "language_info": {
      "codemirror_mode": {
        "name": "ipython",
        "version": 3
      },
      "file_extension": ".py",
      "mimetype": "text/x-python",
      "name": "python",
      "nbconvert_exporter": "python",
      "pygments_lexer": "ipython3",
      "version": "3.8.10"
    },
    "colab": {
      "provenance": [],
      "include_colab_link": true
    }
  },
  "nbformat": 4,
  "nbformat_minor": 0
}