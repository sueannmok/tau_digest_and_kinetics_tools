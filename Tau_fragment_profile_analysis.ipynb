{
  "cells": [
    {
      "cell_type": "markdown",
      "metadata": {
        "id": "view-in-github",
        "colab_type": "text"
      },
      "source": [
        "<a href=\"https://colab.research.google.com/github/sueannmok/tau_digest_and_kinetics_tools/blob/main/Tau_fragment_profile_analysis.ipynb\" target=\"_parent\"><img src=\"https://colab.research.google.com/assets/colab-badge.svg\" alt=\"Open In Colab\"/></a>"
      ]
    },
    {
      "cell_type": "markdown",
      "metadata": {
        "id": "z_A5yNd6II_n"
      },
      "source": [
        "We start by loading the necessary libraries"
      ]
    },
    {
      "cell_type": "code",
      "execution_count": null,
      "metadata": {
        "id": "-i19B8mHII_n"
      },
      "outputs": [],
      "source": [
        "import pandas as pd\n",
        "from scipy.spatial.distance import pdist, jaccard\n",
        "from scipy.stats import pearsonr,spearmanr\n",
        "from scipy.cluster.hierarchy import dendrogram, linkage\n",
        "from scipy.interpolate import interp1d\n",
        "from scipy.spatial.distance import correlation,cosine\n",
        "from sklearn.cluster import AgglomerativeClustering\n",
        "from sklearn.metrics import pairwise_distances\n",
        "from matplotlib import pyplot as plt\n",
        "import numpy as np\n",
        "from seaborn import heatmap\n",
        "%matplotlib inline"
      ]
    },
    {
      "cell_type": "markdown",
      "metadata": {
        "id": "-Fzb5rAsII_n"
      },
      "source": [
        "We load the txt files into dataframes."
      ]
    },
    {
      "cell_type": "code",
      "execution_count": null,
      "metadata": {
        "id": "ukasI14lII_o"
      },
      "outputs": [],
      "source": [
        "df1 = pd.read_csv('/example.csv',delimiter=\",\",decimal=\".\")\n",
        "df2 = pd.read_csv('/example2.csv',delimiter=\",\",decimal=\".\")\n"
      ]
    },
    {
      "cell_type": "markdown",
      "metadata": {
        "id": "OZo7dd_KII_o"
      },
      "source": [
        "From each dataframe associated with a file, we only keep those values that are between 2 and 40."
      ]
    },
    {
      "cell_type": "markdown",
      "source": [],
      "metadata": {
        "id": "Qs1g5ECMVhip"
      }
    },
    {
      "cell_type": "code",
      "execution_count": null,
      "metadata": {
        "id": "BhzOE2M8II_o"
      },
      "outputs": [],
      "source": [
        "df1 = df1[(df1['kDa']>=1.9) & (df1['kDa']<=41)]\n",
        "df2 = df2[(df2['kDa']>=1.9) & (df2['kDa']<=41)]\n",
        "\n"
      ]
    },
    {
      "cell_type": "code",
      "execution_count": null,
      "metadata": {
        "id": "M7dX4Y3eII_o",
        "outputId": "ceaf5342-ed02-4939-fb41-586cc12e0d89",
        "colab": {
          "base_uri": "https://localhost:8080/",
          "height": 424
        }
      },
      "outputs": [
        {
          "output_type": "execute_result",
          "data": {
            "text/plain": [
              "         kDa     G272V\n",
              "27    1.9377   58.1849\n",
              "28    2.0081   59.4767\n",
              "29    2.0785   58.1719\n",
              "30    2.1489   52.7314\n",
              "31    2.2192   50.7264\n",
              "..       ...       ...\n",
              "253  39.9474  241.8394\n",
              "254  40.1690  237.6138\n",
              "255  40.3907  223.1468\n",
              "256  40.6123  207.2938\n",
              "257  40.8339  183.9597\n",
              "\n",
              "[231 rows x 2 columns]"
            ],
            "text/html": [
              "\n",
              "  <div id=\"df-6ee4b9bb-9799-42bb-b137-a7d0c53b3f2d\">\n",
              "    <div class=\"colab-df-container\">\n",
              "      <div>\n",
              "<style scoped>\n",
              "    .dataframe tbody tr th:only-of-type {\n",
              "        vertical-align: middle;\n",
              "    }\n",
              "\n",
              "    .dataframe tbody tr th {\n",
              "        vertical-align: top;\n",
              "    }\n",
              "\n",
              "    .dataframe thead th {\n",
              "        text-align: right;\n",
              "    }\n",
              "</style>\n",
              "<table border=\"1\" class=\"dataframe\">\n",
              "  <thead>\n",
              "    <tr style=\"text-align: right;\">\n",
              "      <th></th>\n",
              "      <th>kDa</th>\n",
              "      <th>G272V</th>\n",
              "    </tr>\n",
              "  </thead>\n",
              "  <tbody>\n",
              "    <tr>\n",
              "      <th>27</th>\n",
              "      <td>1.9377</td>\n",
              "      <td>58.1849</td>\n",
              "    </tr>\n",
              "    <tr>\n",
              "      <th>28</th>\n",
              "      <td>2.0081</td>\n",
              "      <td>59.4767</td>\n",
              "    </tr>\n",
              "    <tr>\n",
              "      <th>29</th>\n",
              "      <td>2.0785</td>\n",
              "      <td>58.1719</td>\n",
              "    </tr>\n",
              "    <tr>\n",
              "      <th>30</th>\n",
              "      <td>2.1489</td>\n",
              "      <td>52.7314</td>\n",
              "    </tr>\n",
              "    <tr>\n",
              "      <th>31</th>\n",
              "      <td>2.2192</td>\n",
              "      <td>50.7264</td>\n",
              "    </tr>\n",
              "    <tr>\n",
              "      <th>...</th>\n",
              "      <td>...</td>\n",
              "      <td>...</td>\n",
              "    </tr>\n",
              "    <tr>\n",
              "      <th>253</th>\n",
              "      <td>39.9474</td>\n",
              "      <td>241.8394</td>\n",
              "    </tr>\n",
              "    <tr>\n",
              "      <th>254</th>\n",
              "      <td>40.1690</td>\n",
              "      <td>237.6138</td>\n",
              "    </tr>\n",
              "    <tr>\n",
              "      <th>255</th>\n",
              "      <td>40.3907</td>\n",
              "      <td>223.1468</td>\n",
              "    </tr>\n",
              "    <tr>\n",
              "      <th>256</th>\n",
              "      <td>40.6123</td>\n",
              "      <td>207.2938</td>\n",
              "    </tr>\n",
              "    <tr>\n",
              "      <th>257</th>\n",
              "      <td>40.8339</td>\n",
              "      <td>183.9597</td>\n",
              "    </tr>\n",
              "  </tbody>\n",
              "</table>\n",
              "<p>231 rows × 2 columns</p>\n",
              "</div>\n",
              "      <button class=\"colab-df-convert\" onclick=\"convertToInteractive('df-6ee4b9bb-9799-42bb-b137-a7d0c53b3f2d')\"\n",
              "              title=\"Convert this dataframe to an interactive table.\"\n",
              "              style=\"display:none;\">\n",
              "        \n",
              "  <svg xmlns=\"http://www.w3.org/2000/svg\" height=\"24px\"viewBox=\"0 0 24 24\"\n",
              "       width=\"24px\">\n",
              "    <path d=\"M0 0h24v24H0V0z\" fill=\"none\"/>\n",
              "    <path d=\"M18.56 5.44l.94 2.06.94-2.06 2.06-.94-2.06-.94-.94-2.06-.94 2.06-2.06.94zm-11 1L8.5 8.5l.94-2.06 2.06-.94-2.06-.94L8.5 2.5l-.94 2.06-2.06.94zm10 10l.94 2.06.94-2.06 2.06-.94-2.06-.94-.94-2.06-.94 2.06-2.06.94z\"/><path d=\"M17.41 7.96l-1.37-1.37c-.4-.4-.92-.59-1.43-.59-.52 0-1.04.2-1.43.59L10.3 9.45l-7.72 7.72c-.78.78-.78 2.05 0 2.83L4 21.41c.39.39.9.59 1.41.59.51 0 1.02-.2 1.41-.59l7.78-7.78 2.81-2.81c.8-.78.8-2.07 0-2.86zM5.41 20L4 18.59l7.72-7.72 1.47 1.35L5.41 20z\"/>\n",
              "  </svg>\n",
              "      </button>\n",
              "      \n",
              "  <style>\n",
              "    .colab-df-container {\n",
              "      display:flex;\n",
              "      flex-wrap:wrap;\n",
              "      gap: 12px;\n",
              "    }\n",
              "\n",
              "    .colab-df-convert {\n",
              "      background-color: #E8F0FE;\n",
              "      border: none;\n",
              "      border-radius: 50%;\n",
              "      cursor: pointer;\n",
              "      display: none;\n",
              "      fill: #1967D2;\n",
              "      height: 32px;\n",
              "      padding: 0 0 0 0;\n",
              "      width: 32px;\n",
              "    }\n",
              "\n",
              "    .colab-df-convert:hover {\n",
              "      background-color: #E2EBFA;\n",
              "      box-shadow: 0px 1px 2px rgba(60, 64, 67, 0.3), 0px 1px 3px 1px rgba(60, 64, 67, 0.15);\n",
              "      fill: #174EA6;\n",
              "    }\n",
              "\n",
              "    [theme=dark] .colab-df-convert {\n",
              "      background-color: #3B4455;\n",
              "      fill: #D2E3FC;\n",
              "    }\n",
              "\n",
              "    [theme=dark] .colab-df-convert:hover {\n",
              "      background-color: #434B5C;\n",
              "      box-shadow: 0px 1px 3px 1px rgba(0, 0, 0, 0.15);\n",
              "      filter: drop-shadow(0px 1px 2px rgba(0, 0, 0, 0.3));\n",
              "      fill: #FFFFFF;\n",
              "    }\n",
              "  </style>\n",
              "\n",
              "      <script>\n",
              "        const buttonEl =\n",
              "          document.querySelector('#df-6ee4b9bb-9799-42bb-b137-a7d0c53b3f2d button.colab-df-convert');\n",
              "        buttonEl.style.display =\n",
              "          google.colab.kernel.accessAllowed ? 'block' : 'none';\n",
              "\n",
              "        async function convertToInteractive(key) {\n",
              "          const element = document.querySelector('#df-6ee4b9bb-9799-42bb-b137-a7d0c53b3f2d');\n",
              "          const dataTable =\n",
              "            await google.colab.kernel.invokeFunction('convertToInteractive',\n",
              "                                                     [key], {});\n",
              "          if (!dataTable) return;\n",
              "\n",
              "          const docLinkHtml = 'Like what you see? Visit the ' +\n",
              "            '<a target=\"_blank\" href=https://colab.research.google.com/notebooks/data_table.ipynb>data table notebook</a>'\n",
              "            + ' to learn more about interactive tables.';\n",
              "          element.innerHTML = '';\n",
              "          dataTable['output_type'] = 'display_data';\n",
              "          await google.colab.output.renderOutput(dataTable, element);\n",
              "          const docLink = document.createElement('div');\n",
              "          docLink.innerHTML = docLinkHtml;\n",
              "          element.appendChild(docLink);\n",
              "        }\n",
              "      </script>\n",
              "    </div>\n",
              "  </div>\n",
              "  "
            ]
          },
          "metadata": {},
          "execution_count": 6
        }
      ],
      "source": [
        "df1"
      ]
    },
    {
      "cell_type": "markdown",
      "metadata": {
        "id": "Y1XPjfNAII_p"
      },
      "source": [
        "The next function is used to combine a list of dataframes. Since different kDa values might appear in different files, we perform an interpolation and obtain values with a step of 0.1 in the range from 2 to 40."
      ]
    },
    {
      "cell_type": "code",
      "execution_count": null,
      "metadata": {
        "id": "D3AgARJGII_p"
      },
      "outputs": [],
      "source": [
        "def buildDataframe(dfList,dfNames):\n",
        "    \n",
        "    samples = []\n",
        "    names = []\n",
        "    samples.append(np.arange(6.0,24,0.1))\n",
        "    names.append('points')\n",
        "    for df,name in zip(dfList,dfNames):\n",
        "        columns = df.columns[1:]\n",
        "        for c in columns:\n",
        "            f = interp1d(df['kDa'],df[c])\n",
        "            samples.append(f(np.arange(6.0,24,0.1)))\n",
        "            names.append(name+'-'+c)\n",
        "    \n",
        "    return pd.DataFrame(data=np.transpose(samples),columns=names,index=None)"
      ]
    },
    {
      "cell_type": "markdown",
      "metadata": {
        "id": "S6mmUMB7II_p"
      },
      "source": [
        "Combine the loaded dataframes."
      ]
    },
    {
      "cell_type": "code",
      "execution_count": null,
      "metadata": {
        "id": "dIUSPIUXII_p"
      },
      "outputs": [],
      "source": [
        "newdf = buildDataframe([df1,df2],['Date1','Date2'])"
      ]
    },
    {
      "cell_type": "markdown",
      "source": [],
      "metadata": {
        "id": "f-Yw_K2QA3_j"
      }
    },
    {
      "cell_type": "code",
      "execution_count": null,
      "metadata": {
        "id": "85RMobXQII_p"
      },
      "outputs": [],
      "source": [
        "newdf"
      ]
    },
    {
      "cell_type": "markdown",
      "metadata": {
        "id": "-GaBI7U8II_p"
      },
      "source": [
        "We now define a set of auxiliary functions."
      ]
    },
    {
      "cell_type": "code",
      "execution_count": null,
      "metadata": {
        "id": "XvyfY4_rII_p"
      },
      "outputs": [],
      "source": [
        "def generate_spectra(df):\n",
        "    \"\"\"\n",
        "    Generate spectra matrix from dataframe\n",
        "    \n",
        "    Parameters\n",
        "    ----------\n",
        "    df : dataframe\n",
        "         A dataframe where the first row contains the names of the samples and for each sample we have its spectra\n",
        "    \n",
        "    Returns\n",
        "    ----------\n",
        "    matrix : narray\n",
        "             The spectra associated with each sample\n",
        "    names  : list\n",
        "             The list of names of the samples\n",
        "    \"\"\"\n",
        "    \n",
        "    names = df.columns[1:]\n",
        "        \n",
        "    \n",
        "    return np.transpose(df.values[:,1:]), names   "
      ]
    },
    {
      "cell_type": "code",
      "execution_count": null,
      "metadata": {
        "id": "cGOz2LYyII_p"
      },
      "outputs": [],
      "source": [
        "def compute_distance(vector1,vector2,metric='correlation'):\n",
        "    \"\"\"\n",
        "    Compute the distance of two spectra vectors using either the correlation or cosine distance.\n",
        "    \n",
        "    Parameters\n",
        "    ----------\n",
        "    vector1 : array\n",
        "    vector2 : array\n",
        "       Must have the same size than vector1\n",
        "    metric  : string\n",
        "       Either correlation or cosine\n",
        "    \n",
        "    Returns\n",
        "    ----------\n",
        "    The distance between vector1 and vector2 using the given metric. \n",
        "    \"\"\"\n",
        "    if(metric=='correlation'):\n",
        "        return correlation(vector1,vector2)\n",
        "    if(metric=='cosine'):\n",
        "        return cosine(vector1,vector2)"
      ]
    },
    {
      "cell_type": "code",
      "execution_count": null,
      "metadata": {
        "id": "xUFuJ4coII_q"
      },
      "outputs": [],
      "source": [
        "def generate_similarity_matrix(df,metric='correlation'):\n",
        "    \"\"\"\n",
        "    Generates the similarity matrix of a dataframe\n",
        "    \n",
        "    Parameters\n",
        "    ----------\n",
        "    df : dataframe\n",
        "    metric  : string\n",
        "       Either correlation or cosine\n",
        "    \n",
        "    Returns\n",
        "    ----------\n",
        "    The similarity matrix associated with a dataframe\n",
        "    \"\"\"\n",
        "    spectra,names = generate_spectra(df)\n",
        "    \n",
        "    matrix  = np.zeros((len(names),len(names)),dtype='float32')\n",
        "    for i in range(0,len(names)):\n",
        "        for j in range(i+1,len(names)):\n",
        "            matrix[i][j] = compute_distance(spectra[i],\n",
        "                                            spectra[j],\n",
        "                                            metric)\n",
        "            matrix[j][i] = matrix[i][j]\n",
        "    return matrix, names"
      ]
    },
    {
      "cell_type": "code",
      "execution_count": null,
      "metadata": {
        "id": "FUfZkhYfII_q"
      },
      "outputs": [],
      "source": [
        "def plot_dendrogram(model, **kwargs):\n",
        "    # Create linkage matrix and then plot the dendrogram\n",
        "\n",
        "    # create the counts of samples under each node\n",
        "    counts = np.zeros(model.children_.shape[0])\n",
        "    n_samples = len(model.labels_)\n",
        "    for i, merge in enumerate(model.children_):\n",
        "        current_count = 0\n",
        "        for child_idx in merge:\n",
        "            if child_idx < n_samples:\n",
        "                current_count += 1  # leaf node\n",
        "            else:\n",
        "                current_count += counts[child_idx - n_samples]\n",
        "        counts[i] = current_count\n",
        "\n",
        "    linkage_matrix = np.column_stack([model.children_, model.distances_,\n",
        "                                      counts]).astype(float)\n",
        "\n",
        "    # Plot the corresponding dendrogram\n",
        "    dendrogram(linkage_matrix,color_threshold=0.10, **kwargs)"
      ]
    },
    {
      "cell_type": "code",
      "execution_count": null,
      "metadata": {
        "id": "Ic1M0waXII_q"
      },
      "outputs": [],
      "source": [
        "def generate_dendogram(df,linkage='average',metric='correlation',threshold=0.2,name='dendogram.svg'):\n",
        "    \"\"\"\n",
        "    Generates dendogram\n",
        "    \n",
        "    Parameters\n",
        "    ----------\n",
        "    df : dataframe\n",
        "        A dataframe where the first column contains the names of the samples and the second\n",
        "        contains the molecular weights\n",
        "    linkage: string\n",
        "        The linkage method for building the dendogram:\n",
        "        ‘ward’, ‘complete’, ‘average’, ‘single’.\n",
        "    metric: string\n",
        "        One of the following metrics to compute the distance matrix:\n",
        "        'pearson' or 'spearman'\n",
        "    threshold: float >=0 and <=1\n",
        "        Value that is considered to create a cluster. \n",
        "    name: string\n",
        "        Path where the dendogram will be saved\n",
        "    Returns\n",
        "    ----------\n",
        "    This methods shows the associated dendogram and saves the image.\n",
        "    \"\"\"\n",
        "\n",
        "    if(metric=='correlation' or metric=='cosine'):            \n",
        "        m,names = generate_similarity_matrix(df,metric)\n",
        "    else:\n",
        "        raise Excepction('Only jaccard and dice are supported')\n",
        "    \n",
        "    clustering = AgglomerativeClustering(n_clusters=None,affinity='precomputed',linkage=linkage,\n",
        "                                      distance_threshold=threshold)\n",
        "    clustering.fit(m)\n",
        "    \n",
        "    plt.figure(figsize=(55, 2*len(names)))\n",
        "    plot_dendrogram(clustering,leaf_font_size=0.5*len(names),orientation='left',labels = names)\n",
        "    plt.savefig(name)\n",
        "    "
      ]
    },
    {
      "cell_type": "code",
      "execution_count": null,
      "metadata": {
        "scrolled": true,
        "id": "U2lIMNRgII_q"
      },
      "outputs": [],
      "source": [
        "generate_dendogram(newdf,name='dendogram_multi.svg')"
      ]
    },
    {
      "cell_type": "code",
      "execution_count": null,
      "metadata": {
        "id": "lGcG6WWNII_q"
      },
      "outputs": [],
      "source": [
        "def generate_heatmap(df,metric='correlation',name='heatmap.svg'):\n",
        "    m,names = generate_similarity_matrix(df,metric)\n",
        "    plt.clf()\n",
        "    plt.figure(figsize=(len(names)+1, len(names)))\n",
        "    heatmap(1-m,xticklabels=names,yticklabels=names,annot=True)\n",
        "    plt.savefig(name)"
      ]
    },
    {
      "cell_type": "code",
      "execution_count": null,
      "metadata": {
        "id": "KEoifPDaII_q"
      },
      "outputs": [],
      "source": [
        "generate_heatmap(newdf,name='heatmap_multi.svg')"
      ]
    },
    {
      "cell_type": "code",
      "execution_count": null,
      "metadata": {
        "id": "CLnxDmPAII_q"
      },
      "outputs": [],
      "source": []
    }
  ],
  "metadata": {
    "kernelspec": {
      "display_name": "Python 3 (ipykernel)",
      "language": "python",
      "name": "python3"
    },
    "language_info": {
      "codemirror_mode": {
        "name": "ipython",
        "version": 3
      },
      "file_extension": ".py",
      "mimetype": "text/x-python",
      "name": "python",
      "nbconvert_exporter": "python",
      "pygments_lexer": "ipython3",
      "version": "3.8.10"
    },
    "colab": {
      "provenance": [],
      "include_colab_link": true
    }
  },
  "nbformat": 4,
  "nbformat_minor": 0
}